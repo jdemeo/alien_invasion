{
 "cells": [
  {
   "cell_type": "markdown",
   "metadata": {},
   "source": [
    "### Starting the Game Project\n",
    "- In pygame, the origin (0,0) is at the top-left corner of the screen, and coordinates increase as you go down and to the right. On a 1200 by 800 screen, the origin is at the top-left corner, and the bottom-right corner has the coordinates(1200,800)."
   ]
  },
  {
   "cell_type": "code",
   "execution_count": 4,
   "metadata": {},
   "outputs": [
    {
     "ename": "SystemExit",
     "evalue": "",
     "output_type": "error",
     "traceback": [
      "An exception has occurred, use %tb to see the full traceback.\n",
      "\u001b[1;31mSystemExit\u001b[0m\n"
     ]
    },
    {
     "name": "stderr",
     "output_type": "stream",
     "text": [
      "C:\\Users\\rezcivorum\\Anaconda3\\lib\\site-packages\\IPython\\core\\interactiveshell.py:2889: UserWarning: To exit: use 'exit', 'quit', or Ctrl-D.\n",
      "  warn(\"To exit: use 'exit', 'quit', or Ctrl-D.\", stacklevel=1)\n"
     ]
    }
   ],
   "source": [
    "import sys\n",
    "import pygame\n",
    "\n",
    "def run_game():\n",
    "    # Initialize pygame, settings, and screen object.\n",
    "    pygame.init() # initialize background settings that Pygame needs to work properly\n",
    "    ai_settings = Settings() # create an instance of Settings to be used throughout game\n",
    "    screen = pygame.display.set_mode((ai_settings.screen_width, ai_settings.screen_height)) # creates a display window (or surface)\n",
    "    pygame.display.set_caption(\"Alien Invasion\")\n",
    "    \n",
    "    # Make a ship.\n",
    "    ship = Ship(screen)\n",
    "    \n",
    "    # Start the main loop for the game.\n",
    "    while True:\n",
    "        \n",
    "        # Watch for keyboard and mouse events.\n",
    "        check_events(ship)\n",
    "        ship.update()\n",
    "        update_screen(ai_settings, screen, ship)\n",
    "\n",
    "run_game()"
   ]
  },
  {
   "cell_type": "code",
   "execution_count": 5,
   "metadata": {
    "collapsed": true
   },
   "outputs": [],
   "source": [
    "quit"
   ]
  },
  {
   "cell_type": "code",
   "execution_count": 1,
   "metadata": {
    "collapsed": true
   },
   "outputs": [],
   "source": [
    "# Creating a Settings Class\n",
    "class Settings():\n",
    "    \"\"\"A class to store all settings for Alien Invasion.\"\"\"\n",
    "    \n",
    "    def __init__(self):\n",
    "        \"\"\"Initialize the game's settings.\"\"\"\n",
    "        # Screen settings\n",
    "        self.screen_width = 1200\n",
    "        self.screen_height = 800\n",
    "        self.bg_color = (230, 230, 230)"
   ]
  },
  {
   "cell_type": "code",
   "execution_count": 2,
   "metadata": {
    "collapsed": true
   },
   "outputs": [],
   "source": [
    "# Creating the Ship Class\n",
    "class Ship():\n",
    "    \n",
    "    def __init__(self, screen):\n",
    "        \"\"\"Initialize the ship and set its starting position.\"\"\"\n",
    "        self.screen = screen\n",
    "        \n",
    "        # Load the ship image and get its rect.\n",
    "        self.image = pygame.image.load('images/ship.bmp') # returns a surface representing the ship\n",
    "        self.rect = self.image.get_rect() # access surface's rect attribute (rect = rectangles); allows to treat elements\n",
    "        # as rectangles which are simple to deal with; one can access the top, bottom, left, and right edges, and center\n",
    "        self.screen_rect = screen.get_rect() # stores screen's rect\n",
    "        \n",
    "        # Start each new ship at the bottom center of the screen.\n",
    "        self.rect.centerx = self.screen_rect.centerx # places the x-coordinate of the ship's center to match the center of screen\n",
    "        self.rect.bottom = self.screen_rect.bottom # places the y-coordinate of the ship's bottom to match the bottom of scren\n",
    "        \n",
    "        # Movement flags\n",
    "        self.moving_right = False\n",
    "        self.moving_left = False\n",
    "    \n",
    "    def update(self):\n",
    "        \"\"\"Update the ship's position based on the movement flags.\"\"\"\n",
    "        if self.moving_right:\n",
    "            self.rect.centerx += 1\n",
    "        if self.moving_left:\n",
    "            self.rect.centerx -= 1\n",
    "        \n",
    "    def blitme(self):\n",
    "        \"\"\"Draw the ship at its current location.\"\"\"\n",
    "        self.screen.blit(self.image, self.rect) # draws image to screen at position specific by self.rect"
   ]
  },
  {
   "cell_type": "code",
   "execution_count": 3,
   "metadata": {
    "collapsed": true
   },
   "outputs": [],
   "source": [
    "# Game Functions\n",
    "def check_events(ship):\n",
    "    \"\"\"Respond to keypressed and mouse events.\"\"\"\n",
    "    for event in pygame.event.get():\n",
    "        if event.type == pygame.QUIT:\n",
    "            sys.exit()\n",
    "            \n",
    "        # Key stroke events\n",
    "        # Keydown check\n",
    "        elif event.type == pygame.KEYDOWN: # detects a keydown event\n",
    "            if event.key == pygame.K_RIGHT: # check if right arrow key is pressed\n",
    "                ship.moving_right = True\n",
    "            elif event.key == pygame.K_LEFT: # check if left arrow key is pressed\n",
    "                ship.moving_left = True\n",
    "        \n",
    "        # Keyup check\n",
    "        elif event.type == pygame.KEYUP: # detects a keyup event\n",
    "            if event.key == pygame.K_RIGHT: # check if right arrow key is pressed\n",
    "                ship.moving_right = False\n",
    "            elif event.key == pygame.K_LEFT: # check if left arrow key is pressed\n",
    "                ship.moving_left = False\n",
    "\n",
    "def update_screen(ai_settings, screen, ship):\n",
    "    \"\"\"Update images on the screen and flip to the new screen.\"\"\"\n",
    "    # Redraw the screen during each pass through the loop.\n",
    "    screen.fill(ai_settings.bg_color)\n",
    "    ship.blitme() # draws ship onscreen after filling the background\n",
    "\n",
    "    # Make the most recently drawn screen visible.\n",
    "    pygame.display.flip()"
   ]
  },
  {
   "cell_type": "code",
   "execution_count": null,
   "metadata": {
    "collapsed": true
   },
   "outputs": [],
   "source": []
  }
 ],
 "metadata": {
  "kernelspec": {
   "display_name": "Python 3",
   "language": "python",
   "name": "python3"
  },
  "language_info": {
   "codemirror_mode": {
    "name": "ipython",
    "version": 3
   },
   "file_extension": ".py",
   "mimetype": "text/x-python",
   "name": "python",
   "nbconvert_exporter": "python",
   "pygments_lexer": "ipython3",
   "version": "3.6.1"
  }
 },
 "nbformat": 4,
 "nbformat_minor": 2
}
